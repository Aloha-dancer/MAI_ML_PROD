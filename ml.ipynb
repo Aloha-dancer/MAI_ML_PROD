{
  "nbformat": 4,
  "nbformat_minor": 0,
  "metadata": {
    "colab": {
      "provenance": [],
      "gpuType": "T4"
    },
    "kernelspec": {
      "name": "python3",
      "display_name": "Python 3"
    },
    "language_info": {
      "name": "python"
    },
    "accelerator": "GPU",
    "widgets": {
      "application/vnd.jupyter.widget-state+json": {
        "52734e7ddfa540c1a0e6a8f0f969e086": {
          "model_module": "@jupyter-widgets/controls",
          "model_name": "HBoxModel",
          "model_module_version": "1.5.0",
          "state": {
            "_dom_classes": [],
            "_model_module": "@jupyter-widgets/controls",
            "_model_module_version": "1.5.0",
            "_model_name": "HBoxModel",
            "_view_count": null,
            "_view_module": "@jupyter-widgets/controls",
            "_view_module_version": "1.5.0",
            "_view_name": "HBoxView",
            "box_style": "",
            "children": [
              "IPY_MODEL_1079f6b3c1b4440e8e91943d95814a3b",
              "IPY_MODEL_6683925a1b8b44fdb3b1677a1f642752",
              "IPY_MODEL_97284cafdb9e45e2b57f991057eb7ce4"
            ],
            "layout": "IPY_MODEL_613989734665436eb8852ea2b0aaa8c2"
          }
        },
        "1079f6b3c1b4440e8e91943d95814a3b": {
          "model_module": "@jupyter-widgets/controls",
          "model_name": "HTMLModel",
          "model_module_version": "1.5.0",
          "state": {
            "_dom_classes": [],
            "_model_module": "@jupyter-widgets/controls",
            "_model_module_version": "1.5.0",
            "_model_name": "HTMLModel",
            "_view_count": null,
            "_view_module": "@jupyter-widgets/controls",
            "_view_module_version": "1.5.0",
            "_view_name": "HTMLView",
            "description": "",
            "description_tooltip": null,
            "layout": "IPY_MODEL_535f156c6aba46d18d93ff2c736bf9db",
            "placeholder": "​",
            "style": "IPY_MODEL_0cc15eed6f494f6ab085f558a40c53c7",
            "value": "Batches: 100%"
          }
        },
        "6683925a1b8b44fdb3b1677a1f642752": {
          "model_module": "@jupyter-widgets/controls",
          "model_name": "FloatProgressModel",
          "model_module_version": "1.5.0",
          "state": {
            "_dom_classes": [],
            "_model_module": "@jupyter-widgets/controls",
            "_model_module_version": "1.5.0",
            "_model_name": "FloatProgressModel",
            "_view_count": null,
            "_view_module": "@jupyter-widgets/controls",
            "_view_module_version": "1.5.0",
            "_view_name": "ProgressView",
            "bar_style": "success",
            "description": "",
            "description_tooltip": null,
            "layout": "IPY_MODEL_d3e34758314a413ea9d71a8394ce30bb",
            "max": 318,
            "min": 0,
            "orientation": "horizontal",
            "style": "IPY_MODEL_eb178916e6904ab8ab72aacc50866d61",
            "value": 318
          }
        },
        "97284cafdb9e45e2b57f991057eb7ce4": {
          "model_module": "@jupyter-widgets/controls",
          "model_name": "HTMLModel",
          "model_module_version": "1.5.0",
          "state": {
            "_dom_classes": [],
            "_model_module": "@jupyter-widgets/controls",
            "_model_module_version": "1.5.0",
            "_model_name": "HTMLModel",
            "_view_count": null,
            "_view_module": "@jupyter-widgets/controls",
            "_view_module_version": "1.5.0",
            "_view_name": "HTMLView",
            "description": "",
            "description_tooltip": null,
            "layout": "IPY_MODEL_932b9c9d9e91417d908e385962b89370",
            "placeholder": "​",
            "style": "IPY_MODEL_b479767c51b243d687b03c989e763c92",
            "value": " 318/318 [02:15&lt;00:00, 24.85it/s]"
          }
        },
        "613989734665436eb8852ea2b0aaa8c2": {
          "model_module": "@jupyter-widgets/base",
          "model_name": "LayoutModel",
          "model_module_version": "1.2.0",
          "state": {
            "_model_module": "@jupyter-widgets/base",
            "_model_module_version": "1.2.0",
            "_model_name": "LayoutModel",
            "_view_count": null,
            "_view_module": "@jupyter-widgets/base",
            "_view_module_version": "1.2.0",
            "_view_name": "LayoutView",
            "align_content": null,
            "align_items": null,
            "align_self": null,
            "border": null,
            "bottom": null,
            "display": null,
            "flex": null,
            "flex_flow": null,
            "grid_area": null,
            "grid_auto_columns": null,
            "grid_auto_flow": null,
            "grid_auto_rows": null,
            "grid_column": null,
            "grid_gap": null,
            "grid_row": null,
            "grid_template_areas": null,
            "grid_template_columns": null,
            "grid_template_rows": null,
            "height": null,
            "justify_content": null,
            "justify_items": null,
            "left": null,
            "margin": null,
            "max_height": null,
            "max_width": null,
            "min_height": null,
            "min_width": null,
            "object_fit": null,
            "object_position": null,
            "order": null,
            "overflow": null,
            "overflow_x": null,
            "overflow_y": null,
            "padding": null,
            "right": null,
            "top": null,
            "visibility": null,
            "width": null
          }
        },
        "535f156c6aba46d18d93ff2c736bf9db": {
          "model_module": "@jupyter-widgets/base",
          "model_name": "LayoutModel",
          "model_module_version": "1.2.0",
          "state": {
            "_model_module": "@jupyter-widgets/base",
            "_model_module_version": "1.2.0",
            "_model_name": "LayoutModel",
            "_view_count": null,
            "_view_module": "@jupyter-widgets/base",
            "_view_module_version": "1.2.0",
            "_view_name": "LayoutView",
            "align_content": null,
            "align_items": null,
            "align_self": null,
            "border": null,
            "bottom": null,
            "display": null,
            "flex": null,
            "flex_flow": null,
            "grid_area": null,
            "grid_auto_columns": null,
            "grid_auto_flow": null,
            "grid_auto_rows": null,
            "grid_column": null,
            "grid_gap": null,
            "grid_row": null,
            "grid_template_areas": null,
            "grid_template_columns": null,
            "grid_template_rows": null,
            "height": null,
            "justify_content": null,
            "justify_items": null,
            "left": null,
            "margin": null,
            "max_height": null,
            "max_width": null,
            "min_height": null,
            "min_width": null,
            "object_fit": null,
            "object_position": null,
            "order": null,
            "overflow": null,
            "overflow_x": null,
            "overflow_y": null,
            "padding": null,
            "right": null,
            "top": null,
            "visibility": null,
            "width": null
          }
        },
        "0cc15eed6f494f6ab085f558a40c53c7": {
          "model_module": "@jupyter-widgets/controls",
          "model_name": "DescriptionStyleModel",
          "model_module_version": "1.5.0",
          "state": {
            "_model_module": "@jupyter-widgets/controls",
            "_model_module_version": "1.5.0",
            "_model_name": "DescriptionStyleModel",
            "_view_count": null,
            "_view_module": "@jupyter-widgets/base",
            "_view_module_version": "1.2.0",
            "_view_name": "StyleView",
            "description_width": ""
          }
        },
        "d3e34758314a413ea9d71a8394ce30bb": {
          "model_module": "@jupyter-widgets/base",
          "model_name": "LayoutModel",
          "model_module_version": "1.2.0",
          "state": {
            "_model_module": "@jupyter-widgets/base",
            "_model_module_version": "1.2.0",
            "_model_name": "LayoutModel",
            "_view_count": null,
            "_view_module": "@jupyter-widgets/base",
            "_view_module_version": "1.2.0",
            "_view_name": "LayoutView",
            "align_content": null,
            "align_items": null,
            "align_self": null,
            "border": null,
            "bottom": null,
            "display": null,
            "flex": null,
            "flex_flow": null,
            "grid_area": null,
            "grid_auto_columns": null,
            "grid_auto_flow": null,
            "grid_auto_rows": null,
            "grid_column": null,
            "grid_gap": null,
            "grid_row": null,
            "grid_template_areas": null,
            "grid_template_columns": null,
            "grid_template_rows": null,
            "height": null,
            "justify_content": null,
            "justify_items": null,
            "left": null,
            "margin": null,
            "max_height": null,
            "max_width": null,
            "min_height": null,
            "min_width": null,
            "object_fit": null,
            "object_position": null,
            "order": null,
            "overflow": null,
            "overflow_x": null,
            "overflow_y": null,
            "padding": null,
            "right": null,
            "top": null,
            "visibility": null,
            "width": null
          }
        },
        "eb178916e6904ab8ab72aacc50866d61": {
          "model_module": "@jupyter-widgets/controls",
          "model_name": "ProgressStyleModel",
          "model_module_version": "1.5.0",
          "state": {
            "_model_module": "@jupyter-widgets/controls",
            "_model_module_version": "1.5.0",
            "_model_name": "ProgressStyleModel",
            "_view_count": null,
            "_view_module": "@jupyter-widgets/base",
            "_view_module_version": "1.2.0",
            "_view_name": "StyleView",
            "bar_color": null,
            "description_width": ""
          }
        },
        "932b9c9d9e91417d908e385962b89370": {
          "model_module": "@jupyter-widgets/base",
          "model_name": "LayoutModel",
          "model_module_version": "1.2.0",
          "state": {
            "_model_module": "@jupyter-widgets/base",
            "_model_module_version": "1.2.0",
            "_model_name": "LayoutModel",
            "_view_count": null,
            "_view_module": "@jupyter-widgets/base",
            "_view_module_version": "1.2.0",
            "_view_name": "LayoutView",
            "align_content": null,
            "align_items": null,
            "align_self": null,
            "border": null,
            "bottom": null,
            "display": null,
            "flex": null,
            "flex_flow": null,
            "grid_area": null,
            "grid_auto_columns": null,
            "grid_auto_flow": null,
            "grid_auto_rows": null,
            "grid_column": null,
            "grid_gap": null,
            "grid_row": null,
            "grid_template_areas": null,
            "grid_template_columns": null,
            "grid_template_rows": null,
            "height": null,
            "justify_content": null,
            "justify_items": null,
            "left": null,
            "margin": null,
            "max_height": null,
            "max_width": null,
            "min_height": null,
            "min_width": null,
            "object_fit": null,
            "object_position": null,
            "order": null,
            "overflow": null,
            "overflow_x": null,
            "overflow_y": null,
            "padding": null,
            "right": null,
            "top": null,
            "visibility": null,
            "width": null
          }
        },
        "b479767c51b243d687b03c989e763c92": {
          "model_module": "@jupyter-widgets/controls",
          "model_name": "DescriptionStyleModel",
          "model_module_version": "1.5.0",
          "state": {
            "_model_module": "@jupyter-widgets/controls",
            "_model_module_version": "1.5.0",
            "_model_name": "DescriptionStyleModel",
            "_view_count": null,
            "_view_module": "@jupyter-widgets/base",
            "_view_module_version": "1.2.0",
            "_view_name": "StyleView",
            "description_width": ""
          }
        },
        "c7d3847ccd404cf9a0c1bd7d7bbe396f": {
          "model_module": "@jupyter-widgets/controls",
          "model_name": "HBoxModel",
          "model_module_version": "1.5.0",
          "state": {
            "_dom_classes": [],
            "_model_module": "@jupyter-widgets/controls",
            "_model_module_version": "1.5.0",
            "_model_name": "HBoxModel",
            "_view_count": null,
            "_view_module": "@jupyter-widgets/controls",
            "_view_module_version": "1.5.0",
            "_view_name": "HBoxView",
            "box_style": "",
            "children": [
              "IPY_MODEL_019c5e3198a94f888b6cda6544f83c59",
              "IPY_MODEL_f945e530439846118a72a941bc619297",
              "IPY_MODEL_ec1d947745134ccc8ae367de8ff2d1f1"
            ],
            "layout": "IPY_MODEL_5a86cc9ef2854bdda005f02ad6d92fcd"
          }
        },
        "019c5e3198a94f888b6cda6544f83c59": {
          "model_module": "@jupyter-widgets/controls",
          "model_name": "HTMLModel",
          "model_module_version": "1.5.0",
          "state": {
            "_dom_classes": [],
            "_model_module": "@jupyter-widgets/controls",
            "_model_module_version": "1.5.0",
            "_model_name": "HTMLModel",
            "_view_count": null,
            "_view_module": "@jupyter-widgets/controls",
            "_view_module_version": "1.5.0",
            "_view_name": "HTMLView",
            "description": "",
            "description_tooltip": null,
            "layout": "IPY_MODEL_aca7f93ad6184523a5a33bc306f01f4f",
            "placeholder": "​",
            "style": "IPY_MODEL_859a1574688b4ba3bfee5cb23fb68826",
            "value": "Batches: 100%"
          }
        },
        "f945e530439846118a72a941bc619297": {
          "model_module": "@jupyter-widgets/controls",
          "model_name": "FloatProgressModel",
          "model_module_version": "1.5.0",
          "state": {
            "_dom_classes": [],
            "_model_module": "@jupyter-widgets/controls",
            "_model_module_version": "1.5.0",
            "_model_name": "FloatProgressModel",
            "_view_count": null,
            "_view_module": "@jupyter-widgets/controls",
            "_view_module_version": "1.5.0",
            "_view_name": "ProgressView",
            "bar_style": "success",
            "description": "",
            "description_tooltip": null,
            "layout": "IPY_MODEL_5e8167ae83244cd69dd2445636d5d075",
            "max": 1,
            "min": 0,
            "orientation": "horizontal",
            "style": "IPY_MODEL_5575dc847c7e475db3f8c9094d776af6",
            "value": 1
          }
        },
        "ec1d947745134ccc8ae367de8ff2d1f1": {
          "model_module": "@jupyter-widgets/controls",
          "model_name": "HTMLModel",
          "model_module_version": "1.5.0",
          "state": {
            "_dom_classes": [],
            "_model_module": "@jupyter-widgets/controls",
            "_model_module_version": "1.5.0",
            "_model_name": "HTMLModel",
            "_view_count": null,
            "_view_module": "@jupyter-widgets/controls",
            "_view_module_version": "1.5.0",
            "_view_name": "HTMLView",
            "description": "",
            "description_tooltip": null,
            "layout": "IPY_MODEL_47c2520b56464d6382e495996f8b1c17",
            "placeholder": "​",
            "style": "IPY_MODEL_1421d8ab761245559bddee32a46e8199",
            "value": " 1/1 [00:00&lt;00:00, 18.97it/s]"
          }
        },
        "5a86cc9ef2854bdda005f02ad6d92fcd": {
          "model_module": "@jupyter-widgets/base",
          "model_name": "LayoutModel",
          "model_module_version": "1.2.0",
          "state": {
            "_model_module": "@jupyter-widgets/base",
            "_model_module_version": "1.2.0",
            "_model_name": "LayoutModel",
            "_view_count": null,
            "_view_module": "@jupyter-widgets/base",
            "_view_module_version": "1.2.0",
            "_view_name": "LayoutView",
            "align_content": null,
            "align_items": null,
            "align_self": null,
            "border": null,
            "bottom": null,
            "display": null,
            "flex": null,
            "flex_flow": null,
            "grid_area": null,
            "grid_auto_columns": null,
            "grid_auto_flow": null,
            "grid_auto_rows": null,
            "grid_column": null,
            "grid_gap": null,
            "grid_row": null,
            "grid_template_areas": null,
            "grid_template_columns": null,
            "grid_template_rows": null,
            "height": null,
            "justify_content": null,
            "justify_items": null,
            "left": null,
            "margin": null,
            "max_height": null,
            "max_width": null,
            "min_height": null,
            "min_width": null,
            "object_fit": null,
            "object_position": null,
            "order": null,
            "overflow": null,
            "overflow_x": null,
            "overflow_y": null,
            "padding": null,
            "right": null,
            "top": null,
            "visibility": null,
            "width": null
          }
        },
        "aca7f93ad6184523a5a33bc306f01f4f": {
          "model_module": "@jupyter-widgets/base",
          "model_name": "LayoutModel",
          "model_module_version": "1.2.0",
          "state": {
            "_model_module": "@jupyter-widgets/base",
            "_model_module_version": "1.2.0",
            "_model_name": "LayoutModel",
            "_view_count": null,
            "_view_module": "@jupyter-widgets/base",
            "_view_module_version": "1.2.0",
            "_view_name": "LayoutView",
            "align_content": null,
            "align_items": null,
            "align_self": null,
            "border": null,
            "bottom": null,
            "display": null,
            "flex": null,
            "flex_flow": null,
            "grid_area": null,
            "grid_auto_columns": null,
            "grid_auto_flow": null,
            "grid_auto_rows": null,
            "grid_column": null,
            "grid_gap": null,
            "grid_row": null,
            "grid_template_areas": null,
            "grid_template_columns": null,
            "grid_template_rows": null,
            "height": null,
            "justify_content": null,
            "justify_items": null,
            "left": null,
            "margin": null,
            "max_height": null,
            "max_width": null,
            "min_height": null,
            "min_width": null,
            "object_fit": null,
            "object_position": null,
            "order": null,
            "overflow": null,
            "overflow_x": null,
            "overflow_y": null,
            "padding": null,
            "right": null,
            "top": null,
            "visibility": null,
            "width": null
          }
        },
        "859a1574688b4ba3bfee5cb23fb68826": {
          "model_module": "@jupyter-widgets/controls",
          "model_name": "DescriptionStyleModel",
          "model_module_version": "1.5.0",
          "state": {
            "_model_module": "@jupyter-widgets/controls",
            "_model_module_version": "1.5.0",
            "_model_name": "DescriptionStyleModel",
            "_view_count": null,
            "_view_module": "@jupyter-widgets/base",
            "_view_module_version": "1.2.0",
            "_view_name": "StyleView",
            "description_width": ""
          }
        },
        "5e8167ae83244cd69dd2445636d5d075": {
          "model_module": "@jupyter-widgets/base",
          "model_name": "LayoutModel",
          "model_module_version": "1.2.0",
          "state": {
            "_model_module": "@jupyter-widgets/base",
            "_model_module_version": "1.2.0",
            "_model_name": "LayoutModel",
            "_view_count": null,
            "_view_module": "@jupyter-widgets/base",
            "_view_module_version": "1.2.0",
            "_view_name": "LayoutView",
            "align_content": null,
            "align_items": null,
            "align_self": null,
            "border": null,
            "bottom": null,
            "display": null,
            "flex": null,
            "flex_flow": null,
            "grid_area": null,
            "grid_auto_columns": null,
            "grid_auto_flow": null,
            "grid_auto_rows": null,
            "grid_column": null,
            "grid_gap": null,
            "grid_row": null,
            "grid_template_areas": null,
            "grid_template_columns": null,
            "grid_template_rows": null,
            "height": null,
            "justify_content": null,
            "justify_items": null,
            "left": null,
            "margin": null,
            "max_height": null,
            "max_width": null,
            "min_height": null,
            "min_width": null,
            "object_fit": null,
            "object_position": null,
            "order": null,
            "overflow": null,
            "overflow_x": null,
            "overflow_y": null,
            "padding": null,
            "right": null,
            "top": null,
            "visibility": null,
            "width": null
          }
        },
        "5575dc847c7e475db3f8c9094d776af6": {
          "model_module": "@jupyter-widgets/controls",
          "model_name": "ProgressStyleModel",
          "model_module_version": "1.5.0",
          "state": {
            "_model_module": "@jupyter-widgets/controls",
            "_model_module_version": "1.5.0",
            "_model_name": "ProgressStyleModel",
            "_view_count": null,
            "_view_module": "@jupyter-widgets/base",
            "_view_module_version": "1.2.0",
            "_view_name": "StyleView",
            "bar_color": null,
            "description_width": ""
          }
        },
        "47c2520b56464d6382e495996f8b1c17": {
          "model_module": "@jupyter-widgets/base",
          "model_name": "LayoutModel",
          "model_module_version": "1.2.0",
          "state": {
            "_model_module": "@jupyter-widgets/base",
            "_model_module_version": "1.2.0",
            "_model_name": "LayoutModel",
            "_view_count": null,
            "_view_module": "@jupyter-widgets/base",
            "_view_module_version": "1.2.0",
            "_view_name": "LayoutView",
            "align_content": null,
            "align_items": null,
            "align_self": null,
            "border": null,
            "bottom": null,
            "display": null,
            "flex": null,
            "flex_flow": null,
            "grid_area": null,
            "grid_auto_columns": null,
            "grid_auto_flow": null,
            "grid_auto_rows": null,
            "grid_column": null,
            "grid_gap": null,
            "grid_row": null,
            "grid_template_areas": null,
            "grid_template_columns": null,
            "grid_template_rows": null,
            "height": null,
            "justify_content": null,
            "justify_items": null,
            "left": null,
            "margin": null,
            "max_height": null,
            "max_width": null,
            "min_height": null,
            "min_width": null,
            "object_fit": null,
            "object_position": null,
            "order": null,
            "overflow": null,
            "overflow_x": null,
            "overflow_y": null,
            "padding": null,
            "right": null,
            "top": null,
            "visibility": null,
            "width": null
          }
        },
        "1421d8ab761245559bddee32a46e8199": {
          "model_module": "@jupyter-widgets/controls",
          "model_name": "DescriptionStyleModel",
          "model_module_version": "1.5.0",
          "state": {
            "_model_module": "@jupyter-widgets/controls",
            "_model_module_version": "1.5.0",
            "_model_name": "DescriptionStyleModel",
            "_view_count": null,
            "_view_module": "@jupyter-widgets/base",
            "_view_module_version": "1.2.0",
            "_view_name": "StyleView",
            "description_width": ""
          }
        }
      }
    }
  },
  "cells": [
    {
      "cell_type": "code",
      "execution_count": null,
      "metadata": {
        "id": "GQw9ql60ppOc"
      },
      "outputs": [],
      "source": [
        "!pip install numpy pandas matplotlib scikit-learn torch sentence_transformers"
      ]
    },
    {
      "cell_type": "code",
      "source": [
        "!pip install pyspark"
      ],
      "metadata": {
        "id": "7fK_as1Fva0F",
        "colab": {
          "base_uri": "https://localhost:8080/"
        },
        "outputId": "5ff8c6f7-07ba-497e-b6b2-b42b1f84685c"
      },
      "execution_count": null,
      "outputs": [
        {
          "output_type": "stream",
          "name": "stdout",
          "text": [
            "Collecting pyspark\n",
            "  Downloading pyspark-3.5.0.tar.gz (316.9 MB)\n",
            "\u001b[2K     \u001b[90m━━━━━━━━━━━━━━━━━━━━━━━━━━━━━━━━━━━━━━━━\u001b[0m \u001b[32m316.9/316.9 MB\u001b[0m \u001b[31m4.4 MB/s\u001b[0m eta \u001b[36m0:00:00\u001b[0m\n",
            "\u001b[?25h  Preparing metadata (setup.py) ... \u001b[?25l\u001b[?25hdone\n",
            "Requirement already satisfied: py4j==0.10.9.7 in /usr/local/lib/python3.10/dist-packages (from pyspark) (0.10.9.7)\n",
            "Building wheels for collected packages: pyspark\n",
            "  Building wheel for pyspark (setup.py) ... \u001b[?25l\u001b[?25hdone\n",
            "  Created wheel for pyspark: filename=pyspark-3.5.0-py2.py3-none-any.whl size=317425345 sha256=9812203d04e779f761b133de41a6abd85f3dc7d633452c398c5639d00236b9a1\n",
            "  Stored in directory: /root/.cache/pip/wheels/41/4e/10/c2cf2467f71c678cfc8a6b9ac9241e5e44a01940da8fbb17fc\n",
            "Successfully built pyspark\n",
            "Installing collected packages: pyspark\n",
            "Successfully installed pyspark-3.5.0\n"
          ]
        }
      ]
    },
    {
      "cell_type": "code",
      "source": [
        "!python main.py"
      ],
      "metadata": {
        "id": "d0y_UNHEqh4P"
      },
      "execution_count": null,
      "outputs": []
    },
    {
      "cell_type": "code",
      "source": [
        "import pandas as pd\n",
        "import numpy as np\n",
        "import pandas as pd\n",
        "import re\n",
        "import matplotlib.pyplot as plt\n",
        "from sklearn.model_selection import train_test_split\n",
        "from sklearn.metrics import confusion_matrix, ConfusionMatrixDisplay\n",
        "from typing import List\n",
        "from sklearn.linear_model import LogisticRegression\n",
        "from sklearn.ensemble import RandomForestClassifier\n",
        "from sklearn.metrics import classification_report,accuracy_score\n",
        "from sklearn.feature_extraction.text import CountVectorizer"
      ],
      "metadata": {
        "id": "VEvWm99lv2kN"
      },
      "execution_count": null,
      "outputs": []
    },
    {
      "cell_type": "code",
      "source": [
        "df = pd.read_csv(\"./dataset.csv\")\n",
        "df['label'] = df['text_type'].map({'spam': 1, 'ham': 0})\n",
        "df['text'] = df['text'].map(lambda x: str(x)).astype('string')"
      ],
      "metadata": {
        "id": "dlu8KytuwPvI"
      },
      "execution_count": null,
      "outputs": []
    },
    {
      "cell_type": "code",
      "source": [
        "import numpy as np\n",
        "import pandas as pd\n",
        "import matplotlib.pyplot as plt\n",
        "from sklearn.model_selection import train_test_split\n",
        "from sklearn.metrics import confusion_matrix, ConfusionMatrixDisplay\n",
        "from typing import List\n",
        "from sbert import preprocess\n",
        "from sklearn.linear_model import LogisticRegression\n",
        "from sklearn.ensemble import RandomForestClassifier\n",
        "from sklearn.metrics import classification_report,accuracy_score\n",
        "\n",
        "\n",
        "def load_spam():\n",
        "    df = pd.read_csv(\"./spam.csv\", encoding='latin-1')\n",
        "\n",
        "    df = df.drop(['Unnamed: 2', 'Unnamed: 3', 'Unnamed: 4'], axis=1)\n",
        "    df = df.rename(columns={'v1': 'label', 'v2': 'Text'})\n",
        "    df['label_enc'] = df['label'].map({'ham': 0, 'spam': 1})\n",
        "\n",
        "    X, y = np.asanyarray(df['Text']), np.asanyarray(df['label_enc'])\n",
        "    return list(X), list(y)\n",
        "\n",
        "\n",
        "def load_spam2():\n",
        "    df = pd.read_csv(\"./spam2.csv\", encoding='latin-1')\n",
        "\n",
        "    X = np.asanyarray((df['Subject'] + \" \" + df['Message']).map(lambda x: str(x).strip()).astype(\"string\"))\n",
        "    y = np.asanyarray(df['Spam/Ham'].map({'ham': 0, 'spam': 1}).astype(\"int32\"))\n",
        "    return list(X), list(y)\n",
        "\n",
        "def load_spam3():\n",
        "    df_test = pd.read_parquet(\"./test3.parquet\")\n",
        "    df_train = pd.read_parquet(\"./train3.parquet\")\n",
        "\n",
        "    df = pd.concat([df_test, df_train], ignore_index=True, sort=False)\n",
        "    df['label'] = df['label'].map({'spam': 1, 'not_spam': 0})\n",
        "    df['text'] = df['text'].map(lambda x: str(x)).astype('string')\n",
        "    return list(df['text']), list(df['label'])\n",
        "\n",
        "def load_spam4():\n",
        "    df = pd.read_csv(\"./spam4.csv\")\n",
        "    df['label'] = df['text_type'].map({'spam': 1, 'ham': 0})\n",
        "    df['text'] = df['text'].map(lambda x: str(x)).astype('string')\n",
        "    return list(df['text']), list(df['label'])\n",
        "\n",
        "def run(text: List[str], labels):\n",
        "    print(\"Stage 1\")\n",
        "    train_embeddings = preprocess(sentences=list(text))\n",
        "\n",
        "    print(\"Stage 2\")\n",
        "    X_train, X_test, y_train, y_test = train_test_split(\n",
        "        train_embeddings,\n",
        "        labels,\n",
        "        test_size=0.2,\n",
        "        random_state=42\n",
        "    )\n",
        "\n",
        "    print(\"Stage 3\")\n",
        "    baseline_model = RandomForestClassifier(n_estimators=100, max_depth=4, random_state=42)\n",
        "    baseline_model.fit(X_train, y_train)\n",
        "\n",
        "    print(\"Stage 4\")\n",
        "    predictions = baseline_model.predict(X_test)\n",
        "    nb_accuracy = accuracy_score(y_test, predictions)\n",
        "    print(\"Accuracy:\", nb_accuracy)\n",
        "    print(classification_report(y_test, predictions))\n",
        "\n",
        "    cm = confusion_matrix(y_test, predictions, labels=baseline_model.classes_)\n",
        "    disp = ConfusionMatrixDisplay(confusion_matrix=cm, display_labels=baseline_model.classes_)\n",
        "    disp.plot()\n",
        "    return baseline_model"
      ],
      "metadata": {
        "id": "jXSGCRPs2tMW"
      },
      "execution_count": null,
      "outputs": []
    },
    {
      "cell_type": "code",
      "source": [
        "text1, label1 = load_spam4()\n",
        "model4 = run(text1, label1)"
      ],
      "metadata": {
        "colab": {
          "base_uri": "https://localhost:8080/",
          "height": 724,
          "referenced_widgets": [
            "52734e7ddfa540c1a0e6a8f0f969e086",
            "1079f6b3c1b4440e8e91943d95814a3b",
            "6683925a1b8b44fdb3b1677a1f642752",
            "97284cafdb9e45e2b57f991057eb7ce4",
            "613989734665436eb8852ea2b0aaa8c2",
            "535f156c6aba46d18d93ff2c736bf9db",
            "0cc15eed6f494f6ab085f558a40c53c7",
            "d3e34758314a413ea9d71a8394ce30bb",
            "eb178916e6904ab8ab72aacc50866d61",
            "932b9c9d9e91417d908e385962b89370",
            "b479767c51b243d687b03c989e763c92"
          ]
        },
        "id": "uqao2-dz3EuP",
        "outputId": "19ccc9b7-2287-4b83-fc56-b6e4504a6c90"
      },
      "execution_count": null,
      "outputs": [
        {
          "output_type": "stream",
          "name": "stdout",
          "text": [
            "Stage 1\n"
          ]
        },
        {
          "output_type": "display_data",
          "data": {
            "text/plain": [
              "Batches:   0%|          | 0/318 [00:00<?, ?it/s]"
            ],
            "application/vnd.jupyter.widget-view+json": {
              "version_major": 2,
              "version_minor": 0,
              "model_id": "52734e7ddfa540c1a0e6a8f0f969e086"
            }
          },
          "metadata": {}
        },
        {
          "output_type": "stream",
          "name": "stdout",
          "text": [
            "Stage 2\n",
            "Stage 3\n",
            "Stage 4\n",
            "Accuracy: 0.831941031941032\n",
            "              precision    recall  f1-score   support\n",
            "\n",
            "           0       0.81      1.00      0.89      2913\n",
            "           1       0.99      0.41      0.58      1157\n",
            "\n",
            "    accuracy                           0.83      4070\n",
            "   macro avg       0.90      0.71      0.74      4070\n",
            "weighted avg       0.86      0.83      0.81      4070\n",
            "\n"
          ]
        },
        {
          "output_type": "display_data",
          "data": {
            "text/plain": [
              "<Figure size 640x480 with 2 Axes>"
            ],
            "image/png": "[encoded data removed]"
          },
          "metadata": {}
        }
      ]
    },
    {
      "cell_type": "code",
      "source": [
        "#1, 1, 0, 0, 0, 1, 0, 1\n",
        "messages = [\n",
        "    \"Congratulations! You've won a free cruise. Click here to claim your prize!\",\n",
        "    \"URGENT: Your account is at risk. Please update your password immediately.\",\n",
        "    \"Reminder: Your appointment with Dr. Smith is scheduled for Thursday at 3 PM.\",\n",
        "    \"This is just a friendly message to check in on you.\",\n",
        "    \"I wanted to remind you about our meeting tomorrow at 10 AM.\",\n",
        "    \"Claim your prize by clicking the link. Limited time offer!\",\n",
        "    \"Here's the document you requested. Let me know if you need anything else.\",\n",
        "    \"You've been chosen for a free iPhone! Click to claim it now.\"\n",
        "]\n",
        "\n",
        "t = preprocess(sentences=messages)\n",
        "list(model2.predict(t))"
      ],
      "metadata": {
        "colab": {
          "base_uri": "https://localhost:8080/",
          "height": 66,
          "referenced_widgets": [
            "c7d3847ccd404cf9a0c1bd7d7bbe396f",
            "019c5e3198a94f888b6cda6544f83c59",
            "f945e530439846118a72a941bc619297",
            "ec1d947745134ccc8ae367de8ff2d1f1",
            "5a86cc9ef2854bdda005f02ad6d92fcd",
            "aca7f93ad6184523a5a33bc306f01f4f",
            "859a1574688b4ba3bfee5cb23fb68826",
            "5e8167ae83244cd69dd2445636d5d075",
            "5575dc847c7e475db3f8c9094d776af6",
            "47c2520b56464d6382e495996f8b1c17",
            "1421d8ab761245559bddee32a46e8199"
          ]
        },
        "id": "TBrJgCcy-aQU",
        "outputId": "7044adda-fa49-49d5-e292-d6ee70b72fc0"
      },
      "execution_count": null,
      "outputs": [
        {
          "output_type": "display_data",
          "data": {
            "text/plain": [
              "Batches:   0%|          | 0/1 [00:00<?, ?it/s]"
            ],
            "application/vnd.jupyter.widget-view+json": {
              "version_major": 2,
              "version_minor": 0,
              "model_id": "c7d3847ccd404cf9a0c1bd7d7bbe396f"
            }
          },
          "metadata": {}
        },
        {
          "output_type": "execute_result",
          "data": {
            "text/plain": [
              "[1, 1, 0, 1, 0, 1, 0, 1]"
            ]
          },
          "metadata": {},
          "execution_count": 57
        }
      ]
    },
    {
      "cell_type": "code",
      "source": [
        "test = pd.read_parquet('./test3.parquet')\n",
        "train = pd.read_parquet('./train3.parquet')"
      ],
      "metadata": {
        "id": "a9iGfNiEmSec"
      },
      "execution_count": null,
      "outputs": []
    },
    {
      "cell_type": "code",
      "source": [
        "stop_words = ['i', 'me', 'my', 'myself', 'we', 'our',\n",
        "\t\t\t'ours', 'ourselves', 'you', 'your', 'yours',\n",
        "\t\t\t'yourself', 'yourselves', 'he', 'him', 'his',\n",
        "\t\t\t'himself', 'she', 'her', 'hers', 'herself',\n",
        "\t\t\t'it', 'its', 'itself', 'they', 'them', 'their',\n",
        "\t\t\t'theirs', 'themselves', 'what', 'which', 'who',\n",
        "\t\t\t'whom', 'this', 'that', 'these', 'those', 'am',\n",
        "\t\t\t'is', 'are', 'was', 'were', 'be', 'been', 'being',\n",
        "\t\t\t'have', 'has', 'had', 'having', 'do', 'does', 'did',\n",
        "\t\t\t'doing', 'a', 'an', 'the', 'and', 'but', 'if', 'or',\n",
        "\t\t\t'because', 'as', 'until', 'while', 'of', 'at',\n",
        "\t\t\t'by', 'for', 'with', 'about', 'against', 'between',\n",
        "\t\t\t'into', 'through', 'during', 'before', 'after',\n",
        "\t\t\t'above', 'below', 'to', 'from', 'up', 'down', 'in',\n",
        "\t\t\t'out', 'on', 'off', 'over', 'under', 'again',\n",
        "\t\t\t'further', 'then', 'once', 'here', 'there', 'when',\n",
        "\t\t\t'where', 'why', 'how', 'all', 'any', 'both', 'each',\n",
        "\t\t\t'few', 'more', 'most', 'other', 'some', 'such', 'no',\n",
        "\t\t\t'nor', 'not', 'only', 'own', 'same', 'so', 'than', 'too',\n",
        "\t\t\t'very', 's', 't', 'can', 'will', 'just', 'don',\n",
        "\t\t\t'should', 'now', '']"
      ],
      "metadata": {
        "id": "qHRBoH_2us4N"
      },
      "execution_count": null,
      "outputs": []
    },
    {
      "cell_type": "code",
      "source": [
        "def print_unique(series):\n",
        "  shape = series.unique().shape\n",
        "  print(\"> Non-unique messages:\", series.shape[0] - shape[0] )\n",
        "  print(\"> Unique messages:\", shape[0] )\n",
        "\n",
        "def get_top_n_words(corpus, n=None):\n",
        "    vec = CountVectorizer().fit(corpus)\n",
        "    bag_of_words = vec.transform(corpus)\n",
        "    sum_words = bag_of_words.sum(axis=0)\n",
        "    words_freq = [(word, sum_words[0, idx]) for word, idx in vec.vocabulary_.items()]\n",
        "    words_freq =sorted(words_freq, key = lambda x: x[1], reverse=True)\n",
        "    return words_freq[:n]\n",
        "\n",
        "def get_top_n_bigram(corpus, n=None):\n",
        "    vec = CountVectorizer(ngram_range=(2, 2)).fit(corpus)\n",
        "    bag_of_words = vec.transform(corpus)\n",
        "    sum_words = bag_of_words.sum(axis=0)\n",
        "    words_freq = [(word, sum_words[0, idx]) for word, idx in vec.vocabulary_.items()]\n",
        "    words_freq =sorted(words_freq, key = lambda x: x[1], reverse=True)\n",
        "    return words_freq[:n]\n",
        "\n",
        "def print_top_n_words(series, c=1, n=None):\n",
        "  common_words = None\n",
        "  if c == 1:\n",
        "    print(\"> Unigrams frequency:\")\n",
        "    common_words = get_top_n_words(series, n)\n",
        "  elif c == 2:\n",
        "    print(\"> Bigram frequency:\")\n",
        "    common_words = get_top_n_bigram(series, n)\n",
        "\n",
        "  for word, freq in common_words:\n",
        "      print(word, freq)\n",
        "\n",
        "def print_len(series):\n",
        "  lengths = series.map(lambda x: len(x))\n",
        "  print(\"> Average Length: \", lengths.mean())\n",
        "  print(\"> Min Length: \", lengths.min())\n",
        "  print(\"> Max Length: \", lengths.max())\n",
        "  plt.boxplot(x=lengths)\n",
        "  plt.show()\n",
        "\n",
        "def remove_stop_words(text):\n",
        "  pattern = re.compile(r'\\b(?:' + '|'.join(map(re.escape, stop_words)) + r')\\b', re.IGNORECASE)\n",
        "  return pattern.sub('', text)\n",
        "\n",
        "def check(df, mes_name):\n",
        "  print(\"> Rows:\", df.shape[0])\n",
        "  df = df.dropna()\n",
        "  print(\"> Non-null:\", df.shape[0])\n",
        "  messages = df[mes_name]\n",
        "\n",
        "  print(\"[ Before removing stop words ]\")\n",
        "  print_len(messages)\n",
        "  print_unique(messages)\n",
        "  print_top_n_words(messages, 1, 10)\n",
        "  print_top_n_words(messages, 2, 10)\n",
        "\n",
        "  messages = messages.map(remove_stop_words)\n",
        "  print(\"\\n[ After removing stop words ]\")\n",
        "  print_len(messages)\n",
        "  print_unique(messages)\n",
        "  print_top_n_words(messages, 1, 10)\n",
        "  print_top_n_words(messages, 2, 10)"
      ],
      "metadata": {
        "id": "OYoEkWnYoR9Z"
      },
      "execution_count": null,
      "outputs": []
    },
    {
      "cell_type": "code",
      "source": [
        "#30k rows\n",
        "df = pd.read_csv('./spam2.csv')\n",
        "check(df, \"Message\")"
      ],
      "metadata": {
        "colab": {
          "base_uri": "https://localhost:8080/",
          "height": 1000
        },
        "id": "fdyIy-rEmsLs",
        "outputId": "68b7bcb3-a04b-4368-909f-ed0d9057c2a1"
      },
      "execution_count": null,
      "outputs": [
        {
          "output_type": "stream",
          "name": "stdout",
          "text": [
            "> Rows: 33716\n",
            "> Non-null: 33107\n",
            "[ Before removing stop words ]\n",
            "> Average Length:  1489.8268039991542\n",
            "> Min Length:  1\n",
            "> Max Length:  228353\n"
          ]
        },
        {
          "output_type": "display_data",
          "data": {
            "text/plain": [
              "<Figure size 640x480 with 1 Axes>"
            ],
            "image/png": "[encoded data removed]"
          },
          "metadata": {}
        },
        {
          "output_type": "stream",
          "name": "stdout",
          "text": [
            "> Non-unique messages: 3525\n",
            "> Unique messages: 29582\n",
            "> Unigrams frequency:\n",
            "the 288201\n",
            "to 210184\n",
            "and 155433\n",
            "of 146821\n",
            "in 105450\n",
            "for 80687\n",
            "you 79811\n",
            "is 70653\n",
            "this 63073\n",
            "enron 59775\n",
            "> Bigram frequency:\n",
            "of the 30859\n",
            "in the 24381\n",
            "hou ect 16212\n",
            "ect ect 15757\n",
            "to the 13252\n",
            "on the 12668\n",
            "if you 12626\n",
            "for the 12254\n",
            "will be 11452\n",
            "the company 10309\n",
            "\n",
            "[ After removing stop words ]\n",
            "> Average Length:  1259.8871537741263\n",
            "> Min Length:  0\n",
            "> Max Length:  191068\n"
          ]
        },
        {
          "output_type": "display_data",
          "data": {
            "text/plain": [
              "<Figure size 640x480 with 1 Axes>"
            ],
            "image/png": "[encoded data removed]"
          },
          "metadata": {}
        },
        {
          "output_type": "stream",
          "name": "stdout",
          "text": [
            "> Non-unique messages: 3525\n",
            "> Unique messages: 29582\n",
            "> Unigrams frequency:\n",
            "enron 59775\n",
            "ect 35338\n",
            "com 23843\n",
            "company 22787\n",
            "please 20102\n",
            "hou 17263\n",
            "would 15452\n",
            "2001 15229\n",
            "new 14337\n",
            "10 14128\n",
            "> Bigram frequency:\n",
            "hou ect 16212\n",
            "ect ect 15764\n",
            "enron enron 6239\n",
            "http www 5231\n",
            "enron com 4417\n",
            "let know 4165\n",
            "vince kaminski 4072\n",
            "cc subject 4070\n",
            "original message 4053\n",
            "subject re 3802\n"
          ]
        }
      ]
    },
    {
      "cell_type": "code",
      "source": [
        "#5k rows\n",
        "df = pd.read_csv('./spam.csv', encoding='latin-1')\n",
        "df = df.drop(['Unnamed: 2', 'Unnamed: 3', 'Unnamed: 4'], axis=1)\n",
        "check(df, \"v2\")"
      ],
      "metadata": {
        "colab": {
          "base_uri": "https://localhost:8080/",
          "height": 1000
        },
        "id": "IBHGLOP6oMLy",
        "outputId": "8360d939-6583-476b-f839-a329419e8d7c"
      },
      "execution_count": null,
      "outputs": [
        {
          "output_type": "stream",
          "name": "stdout",
          "text": [
            "> Rows: 5572\n",
            "> Non-null: 5572\n",
            "[ Before removing stop words ]\n",
            "> Average Length:  80.11880832735105\n",
            "> Min Length:  2\n",
            "> Max Length:  910\n"
          ]
        },
        {
          "output_type": "display_data",
          "data": {
            "text/plain": [
              "<Figure size 640x480 with 1 Axes>"
            ],
            "image/png": "[encoded data removed]"
          },
          "metadata": {}
        },
        {
          "output_type": "stream",
          "name": "stdout",
          "text": [
            "> Non-unique messages: 403\n",
            "> Unique messages: 5169\n",
            "> Unigrams frequency:\n",
            "to 2242\n",
            "you 2240\n",
            "the 1328\n",
            "and 979\n",
            "in 898\n",
            "is 890\n",
            "me 802\n",
            "my 762\n",
            "it 744\n",
            "for 704\n",
            "> Bigram frequency:\n",
            "lt gt 276\n",
            "are you 180\n",
            "you are 129\n",
            "you have 118\n",
            "do you 109\n",
            "if you 104\n",
            "in the 99\n",
            "want to 86\n",
            "will be 83\n",
            "to be 83\n",
            "\n",
            "[ After removing stop words ]\n",
            "> Average Length:  63.55061019382627\n",
            "> Min Length:  2\n",
            "> Max Length:  579\n"
          ]
        },
        {
          "output_type": "display_data",
          "data": {
            "text/plain": [
              "<Figure size 640x480 with 1 Axes>"
            ],
            "image/png": "[encoded data removed]"
          },
          "metadata": {}
        },
        {
          "output_type": "stream",
          "name": "stdout",
          "text": [
            "> Non-unique messages: 404\n",
            "> Unique messages: 5168\n",
            "> Unigrams frequency:\n",
            "call 591\n",
            "get 391\n",
            "ur 385\n",
            "gt 318\n",
            "lt 316\n",
            "ok 292\n",
            "free 284\n",
            "go 280\n",
            "ll 269\n",
            "know 261\n",
            "> Bigram frequency:\n",
            "lt gt 276\n",
            "please call 55\n",
            "call later 50\n",
            "co uk 49\n",
            "ll call 45\n",
            "let know 40\n",
            "sorry ll 39\n",
            "take care 37\n",
            "good morning 32\n",
            "po box 25\n"
          ]
        }
      ]
    },
    {
      "cell_type": "code",
      "source": [
        "#8k rows\n",
        "test = pd.read_parquet('./test3.parquet')\n",
        "train = pd.read_parquet('./train3.parquet')\n",
        "df = pd.concat([test, train], ignore_index=True, sort=False)\n",
        "check(df, \"text\")"
      ],
      "metadata": {
        "colab": {
          "base_uri": "https://localhost:8080/",
          "height": 1000
        },
        "id": "fM-iyGfgpOM9",
        "outputId": "9cd46798-1f5b-4aac-f425-2dfc35756def"
      },
      "execution_count": null,
      "outputs": [
        {
          "output_type": "stream",
          "name": "stdout",
          "text": [
            "> Rows: 10900\n",
            "> Non-null: 10900\n",
            "[ Before removing stop words ]\n",
            "> Average Length:  372.9164220183486\n",
            "> Min Length:  1\n",
            "> Max Length:  41544\n"
          ]
        },
        {
          "output_type": "display_data",
          "data": {
            "text/plain": [
              "<Figure size 640x480 with 1 Axes>"
            ],
            "image/png": "[encoded data removed]"
          },
          "metadata": {}
        },
        {
          "output_type": "stream",
          "name": "stdout",
          "text": [
            "> Non-unique messages: 238\n",
            "> Unique messages: 10662\n",
            "> Unigrams frequency:\n",
            "the 20275\n",
            "to 19262\n",
            "and 17583\n",
            "you 14606\n",
            "of 12511\n",
            "for 10554\n",
            "in 7410\n",
            "on 7267\n",
            "that 7218\n",
            "your 6810\n",
            "> Bigram frequency:\n",
            "looking for 1984\n",
            "we ve 1663\n",
            "want to 1555\n",
            "of the 1543\n",
            "ve got 1540\n",
            "you can 1480\n",
            "on the 1328\n",
            "are you 1299\n",
            "in the 1271\n",
            "miss out 1207\n",
            "\n",
            "[ After removing stop words ]\n",
            "> Average Length:  294.1715596330275\n",
            "> Min Length:  1\n",
            "> Max Length:  41021\n"
          ]
        },
        {
          "output_type": "display_data",
          "data": {
            "text/plain": [
              "<Figure size 640x480 with 1 Axes>"
            ],
            "image/png": "[encoded data removed]"
          },
          "metadata": {}
        },
        {
          "output_type": "stream",
          "name": "stdout",
          "text": [
            "> Non-unique messages: 238\n",
            "> Unique messages: 10662\n",
            "> Unigrams frequency:\n",
            "data 5840\n",
            "get 4340\n",
            "dataset 3257\n",
            "https 2873\n",
            "ve 2818\n",
            "like 2780\n",
            "looking 2476\n",
            "time 2458\n",
            "amp 2403\n",
            "amazing 2365\n",
            "> Bigram frequency:\n",
            "ve got 1541\n",
            "https www 1159\n",
            "social media 1075\n",
            "get rich 879\n",
            "rich quick 836\n",
            "social network 820\n",
            "limited time 610\n",
            "get ready 608\n",
            "amp x200b 604\n",
            "anyone know 512\n"
          ]
        }
      ]
    },
    {
      "cell_type": "code",
      "source": [
        "#20k rows\n",
        "df = pd.read_csv('./spam4.csv', encoding='latin-1')\n",
        "check(df, \"text\")"
      ],
      "metadata": {
        "colab": {
          "base_uri": "https://localhost:8080/",
          "height": 1000
        },
        "id": "vhCKfDxapsrO",
        "outputId": "b3a8930c-15f1-462c-b038-95dcea15a184"
      },
      "execution_count": null,
      "outputs": [
        {
          "output_type": "stream",
          "name": "stdout",
          "text": [
            "> Rows: 20348\n",
            "> Non-null: 20348\n",
            "[ Before removing stop words ]\n",
            "> Average Length:  326.84637310792215\n",
            "> Min Length:  1\n",
            "> Max Length:  2584\n"
          ]
        },
        {
          "output_type": "display_data",
          "data": {
            "text/plain": [
              "<Figure size 640x480 with 1 Axes>"
            ],
            "image/png": "[encoded data removed]"
          },
          "metadata": {}
        },
        {
          "output_type": "stream",
          "name": "stdout",
          "text": [
            "> Non-unique messages: 14\n",
            "> Unique messages: 20334\n",
            "> Unigrams frequency:\n",
            "the 33688\n",
            "to 31171\n",
            "and 18672\n",
            "you 16617\n",
            "1635465 15636\n",
            "of 15198\n",
            "in 12866\n",
            "for 12661\n",
            "is 11163\n",
            "on 10394\n",
            "> Bigram frequency:\n",
            "1635465 1635465 7389\n",
            "hou ect 3142\n",
            "of the 2916\n",
            "ect ect 2772\n",
            "in the 2534\n",
            "vince kaminski 2522\n",
            "if you 1914\n",
            "for the 1680\n",
            "on the 1650\n",
            "to the 1548\n",
            "\n",
            "[ After removing stop words ]\n",
            "> Average Length:  272.2508846078239\n",
            "> Min Length:  0\n",
            "> Max Length:  2584\n"
          ]
        },
        {
          "output_type": "display_data",
          "data": {
            "text/plain": [
              "<Figure size 640x480 with 1 Axes>"
            ],
            "image/png": "[encoded data removed]"
          },
          "metadata": {}
        },
        {
          "output_type": "stream",
          "name": "stdout",
          "text": [
            "> Non-unique messages: 29\n",
            "> Unique messages: 20319\n",
            "> Unigrams frequency:\n",
            "1635465 15636\n",
            "ect 6632\n",
            "enron 6050\n",
            "vince 5568\n",
            "url 4937\n",
            "hou 3289\n",
            "please 2961\n",
            "kaminski 2929\n",
            "com 2872\n",
            "2000 2841\n",
            "> Bigram frequency:\n",
            "1635465 1635465 7778\n",
            "hou ect 3142\n",
            "ect ect 2775\n",
            "vince kaminski 2522\n",
            "cc subject 1271\n",
            "kaminski hou 1223\n",
            "enron com 1164\n",
            "ect cc 1044\n",
            "url url 941\n",
            "would like 788\n"
          ]
        }
      ]
    }
  ]
}